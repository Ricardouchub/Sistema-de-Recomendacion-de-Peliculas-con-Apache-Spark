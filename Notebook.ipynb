{
  "nbformat": 4,
  "nbformat_minor": 0,
  "metadata": {
    "colab": {
      "provenance": []
    },
    "kernelspec": {
      "name": "python3",
      "display_name": "Python 3"
    },
    "language_info": {
      "name": "python"
    }
  },
  "cells": [
    {
      "cell_type": "markdown",
      "source": [
        "# **Sistema de Recomendación de Películas con Apache Spark**\n",
        "\n",
        "#### Author: Ricardo Urdaneta\n",
        "#### Fecha: 18 agosto 2025\n",
        "\n",
        "---\n",
        "\n",
        "Este proyecto implementa un sistema de recomendación de películas utilizando **Apache Spark** sobre el dataset de **MovieLens 32M**. El objetivo principal es demostrar un pipeline completo de Machine Learning a gran escala, desde el análisis exploratorio de datos (EDA) hasta el entrenamiento de un modelo de filtrado colaborativo con **Spark MLlib** y su posterior evaluación y uso para generar recomendaciones personalizadas.\n",
        "\n",
        "## Procedimiento\n",
        "1.  **Configuración del Entorno:** Se instaló PySpark y se configuró una `SparkSession` en Google Colab para manejar grandes volúmenes de datos.\n",
        "2.  **Análisis Exploratorio (EDA):** Se cargaron los 32 millones de registros y se realizó un análisis profundo para entender la distribución de las calificaciones, la popularidad de las películas y la frecuencia de los géneros mediante estadísticas y visualizaciones.\n",
        "3.  **Preparación de Datos:** Los datos se limpiaron, se convirtieron a los tipos numéricos adecuados y se dividieron en conjuntos de entrenamiento (80%) y prueba (20%).\n",
        "4.  **Entrenamiento del Modelo:** Se entrenó un modelo de recomendación utilizando el algoritmo **Alternating Least Squares (ALS)** de Spark MLlib.\n",
        "5.  **Evaluación y Uso:** El modelo fue evaluado con la métrica **RMSE** (Error Cuadrático Medio) y luego se utilizó para generar listas de películas recomendadas para usuarios y encontrar películas similares basadas en sus características latentes.\n",
        "\n",
        "## Conclusión\n",
        "El proyecto demostró con éxito la capacidad de Apache Spark para gestionar y procesar un dataset masivo de forma eficiente. Se construyó un modelo de recomendación funcional que no solo predice las calificaciones de los usuarios con una precisión razonable, sino que también ofrece funcionalidades prácticas como la generación de recomendaciones personalizadas y el descubrimiento de contenido similar, completando así un ciclo de vida de producto de datos realista."
      ],
      "metadata": {
        "id": "8H7knw7COeNV"
      }
    },
    {
      "cell_type": "markdown",
      "source": [
        "### Preparación del entorno"
      ],
      "metadata": {
        "id": "GugN_NmDQ9nx"
      }
    },
    {
      "cell_type": "code",
      "execution_count": 17,
      "metadata": {
        "colab": {
          "base_uri": "https://localhost:8080/"
        },
        "id": "jU6FprYeNLam",
        "outputId": "ee3dc611-4e54-4b73-907f-c5670fe77d7a"
      },
      "outputs": [
        {
          "output_type": "stream",
          "name": "stdout",
          "text": [
            "Spark instalado.\n",
            "Sesión de Spark iniciada correctamente.\n"
          ]
        }
      ],
      "source": [
        "# Instalar Spark\n",
        "!pip install pyspark -q\n",
        "!pip install findspark -q\n",
        "print(\"Spark instalado.\")\n",
        "\n",
        "# Configurar e iniciar la sesión de Spark\n",
        "import findspark\n",
        "findspark.init()\n",
        "from pyspark.sql import SparkSession\n",
        "\n",
        "spark = SparkSession.builder.master(\"local[*]\").appName(\"RecomendadorPeliculas\").config(\"spark.driver.memory\", \"16g\").getOrCreate()\n",
        "\n",
        "print(\"Sesión de Spark iniciada correctamente.\")"
      ]
    },
    {
      "cell_type": "code",
      "source": [
        "# Librerías necesarias\n",
        "\n",
        "# Visualización\n",
        "import matplotlib.pyplot as plt\n",
        "import seaborn as sns\n",
        "\n",
        "# PySpark - Funciones SQL\n",
        "from pyspark.sql.functions import (\n",
        "    col, desc, explode, split, from_unixtime, year, avg, count, lit\n",
        ")\n",
        "\n",
        "# PySpark - Tipos de datos\n",
        "from pyspark.sql.types import IntegerType, FloatType\n",
        "\n",
        "# PySpark - Machine Learning\n",
        "from pyspark.ml.recommendation import ALS\n",
        "from pyspark.ml.evaluation import RegressionEvaluator\n",
        "from pyspark.ml.linalg import Vectors\n",
        "\n",
        "# Manejo de advertencias\n",
        "import warnings\n",
        "warnings.filterwarnings('ignore')"
      ],
      "metadata": {
        "id": "qYwRAzKVWLeJ"
      },
      "execution_count": 28,
      "outputs": []
    },
    {
      "cell_type": "code",
      "source": [
        "# Descargar y descomprimir los datos\n",
        "!wget --no-check-certificate https://files.grouplens.org/datasets/movielens/ml-32m.zip -q\n",
        "!unzip -q -o ml-32m.zip # -o flag to overwrite without asking\n",
        "print(\"Dataset descargado y descomprimido.\")"
      ],
      "metadata": {
        "colab": {
          "base_uri": "https://localhost:8080/"
        },
        "id": "h2wDsR_Nw6ow",
        "outputId": "8bcaa326-fd0c-4d22-ae8e-74b493f3abf1"
      },
      "execution_count": 29,
      "outputs": [
        {
          "output_type": "stream",
          "name": "stdout",
          "text": [
            "Dataset descargado y descomprimido.\n"
          ]
        }
      ]
    },
    {
      "cell_type": "code",
      "source": [
        "# Cargar los datos en DataFrames\n",
        "ratings_df = spark.read.csv('ml-32m/ratings.csv', header=True, inferSchema=True)\n",
        "movies_df = spark.read.csv('ml-32m/movies.csv', header=True, inferSchema=True)\n",
        "print(\"Datos cargados 'ratings_df' y 'movies_df'.\")"
      ],
      "metadata": {
        "colab": {
          "base_uri": "https://localhost:8080/"
        },
        "id": "hUtVnQ0Vw_3T",
        "outputId": "ef46783c-757a-4b68-98a5-e1f1397cd0a4"
      },
      "execution_count": 19,
      "outputs": [
        {
          "output_type": "stream",
          "name": "stdout",
          "text": [
            "Datos cargados 'ratings_df' y 'movies_df'.\n"
          ]
        }
      ]
    },
    {
      "cell_type": "code",
      "source": [
        "# Inspección del DataFrame de ratings_df\n",
        "print(\"Inspección del DataFrame 'ratings_df'\\n\" + \"=\"*40)\n",
        "\n",
        "# Ver la estructura\n",
        "print(\"\\nSchema de ratings_df:\")\n",
        "ratings_df.printSchema()\n",
        "\n",
        "# Ver las primeras 5 filas\n",
        "print(\"\\nPrimeras 5 filas de ratings_df:\")\n",
        "ratings_df.show(5)\n",
        "\n",
        "# Obtener estadísticas descriptivas para las columnas numéricas\n",
        "print(\"\\nEstadísticas descriptivas de ratings_df:\")\n",
        "ratings_df.describe().show()\n",
        "\n",
        "# Obtener las dimensiones\n",
        "ratings_count = ratings_df.count()\n",
        "ratings_cols = len(ratings_df.columns)\n",
        "print(f\"\\nDimensiones de ratings_df: {ratings_count} filas x {ratings_cols} columnas\")"
      ],
      "metadata": {
        "colab": {
          "base_uri": "https://localhost:8080/"
        },
        "id": "olckyfJzQQhh",
        "outputId": "c7db836d-f11f-4940-d7d4-28bb76644d35"
      },
      "execution_count": 20,
      "outputs": [
        {
          "output_type": "stream",
          "name": "stdout",
          "text": [
            "Inspección del DataFrame 'ratings_df'\n",
            "========================================\n",
            "\n",
            "Schema de ratings_df:\n",
            "root\n",
            " |-- userId: integer (nullable = true)\n",
            " |-- movieId: integer (nullable = true)\n",
            " |-- rating: double (nullable = true)\n",
            " |-- timestamp: integer (nullable = true)\n",
            "\n",
            "\n",
            "Primeras 5 filas de ratings_df:\n",
            "+------+-------+------+---------+\n",
            "|userId|movieId|rating|timestamp|\n",
            "+------+-------+------+---------+\n",
            "|     1|     17|   4.0|944249077|\n",
            "|     1|     25|   1.0|944250228|\n",
            "|     1|     29|   2.0|943230976|\n",
            "|     1|     30|   5.0|944249077|\n",
            "|     1|     32|   5.0|943228858|\n",
            "+------+-------+------+---------+\n",
            "only showing top 5 rows\n",
            "\n",
            "\n",
            "Estadísticas descriptivas de ratings_df:\n",
            "+-------+------------------+------------------+------------------+--------------------+\n",
            "|summary|            userId|           movieId|            rating|           timestamp|\n",
            "+-------+------------------+------------------+------------------+--------------------+\n",
            "|  count|          32000204|          32000204|          32000204|            32000204|\n",
            "|   mean|100278.50641102163|29318.610121829224|3.5403956487277393|1.2752411995732634E9|\n",
            "| stddev|57949.046233252906| 50958.16087967011| 1.058986213945308|2.5616297595059687E8|\n",
            "|    min|                 1|                 1|               0.5|           789652004|\n",
            "|    max|            200948|            292757|               5.0|          1697164147|\n",
            "+-------+------------------+------------------+------------------+--------------------+\n",
            "\n",
            "\n",
            "Dimensiones de ratings_df: 32000204 filas x 4 columnas\n"
          ]
        }
      ]
    },
    {
      "cell_type": "code",
      "source": [
        "# Inspección del DataFrame de movies_df\n",
        "print(\"\\n\\nInspección del DataFrame 'movies_df'\\n\" + \"=\"*40)\n",
        "\n",
        "# Ver la estructura\n",
        "print(\"\\nSchema de movies_df:\")\n",
        "movies_df.printSchema()\n",
        "\n",
        "# Ver las primeras 5 filas\n",
        "print(\"\\nPrimeras 5 filas de movies_df:\")\n",
        "movies_df.show(5, truncate=False)\n",
        "\n",
        "# Obtener estadísticas descriptivas\n",
        "print(\"\\nEstadísticas descriptivas de movies_df:\")\n",
        "movies_df.describe().show()\n",
        "\n",
        "# Obtener las dimensiones\n",
        "movies_count = movies_df.count()\n",
        "movies_cols = len(movies_df.columns)\n",
        "print(f\"\\n📏 Dimensiones de movies_df: {movies_count} filas x {movies_cols} columnas\")"
      ],
      "metadata": {
        "colab": {
          "base_uri": "https://localhost:8080/"
        },
        "id": "c7SZiajQSLYK",
        "outputId": "8c93e786-c242-4793-8bb2-820b256039f1"
      },
      "execution_count": 21,
      "outputs": [
        {
          "output_type": "stream",
          "name": "stdout",
          "text": [
            "\n",
            "\n",
            "Inspección del DataFrame 'movies_df'\n",
            "========================================\n",
            "\n",
            "Schema de movies_df:\n",
            "root\n",
            " |-- movieId: integer (nullable = true)\n",
            " |-- title: string (nullable = true)\n",
            " |-- genres: string (nullable = true)\n",
            "\n",
            "\n",
            "Primeras 5 filas de movies_df:\n",
            "+-------+----------------------------------+-------------------------------------------+\n",
            "|movieId|title                             |genres                                     |\n",
            "+-------+----------------------------------+-------------------------------------------+\n",
            "|1      |Toy Story (1995)                  |Adventure|Animation|Children|Comedy|Fantasy|\n",
            "|2      |Jumanji (1995)                    |Adventure|Children|Fantasy                 |\n",
            "|3      |Grumpier Old Men (1995)           |Comedy|Romance                             |\n",
            "|4      |Waiting to Exhale (1995)          |Comedy|Drama|Romance                       |\n",
            "|5      |Father of the Bride Part II (1995)|Comedy                                     |\n",
            "+-------+----------------------------------+-------------------------------------------+\n",
            "only showing top 5 rows\n",
            "\n",
            "\n",
            "Estadísticas descriptivas de movies_df:\n",
            "+-------+-----------------+---------------+--------------------+\n",
            "|summary|          movieId|          title|              genres|\n",
            "+-------+-----------------+---------------+--------------------+\n",
            "|  count|            87585|          87585|               87585|\n",
            "|   mean|157651.3655192099|           NULL|                NULL|\n",
            "| stddev|79013.40209904719|           NULL|                NULL|\n",
            "|    min|                1|         (2019)| We're Comin' To ...|\n",
            "|    max|           292757|줄탁동시 (2012)|             Western|\n",
            "+-------+-----------------+---------------+--------------------+\n",
            "\n",
            "\n",
            "📏 Dimensiones de movies_df: 87585 filas x 3 columnas\n"
          ]
        }
      ]
    },
    {
      "cell_type": "markdown",
      "source": [
        "# Análisis explotario de datos"
      ],
      "metadata": {
        "id": "hdPH_JSYT7vs"
      }
    },
    {
      "cell_type": "markdown",
      "source": [
        "## 1. Dimensiones del Dataset:\n",
        "\n",
        "Primero, obtengamos las cifras exactas de calificaciones, usuarios y películas. Esto nos da una idea clara de la escala del problema."
      ],
      "metadata": {
        "id": "z8ZXbZUmUDkD"
      }
    },
    {
      "cell_type": "code",
      "source": [
        "# Contar el número total de calificaciones\n",
        "total_ratings = ratings_df.count()\n",
        "\n",
        "# Contar el número de usuarios y películas únicos\n",
        "distinct_users = ratings_df.select(\"userId\").distinct().count()\n",
        "distinct_movies = movies_df.select(\"movieId\").distinct().count()\n",
        "\n",
        "print(\"Dimensiones del Dataset:\")\n",
        "print(f\"Número total de calificaciones: {total_ratings:,}\")\n",
        "print(f\"Número de usuarios únicos: {distinct_users:,}\")\n",
        "print(f\"Número de películas únicas: {distinct_movies:,}\")"
      ],
      "metadata": {
        "colab": {
          "base_uri": "https://localhost:8080/"
        },
        "id": "KrEVJ99CTd_q",
        "outputId": "9345f619-41bf-4f7a-f74a-fe46bc1e0046"
      },
      "execution_count": null,
      "outputs": [
        {
          "output_type": "stream",
          "name": "stdout",
          "text": [
            "📊 Dimensiones del Dataset:\n",
            "Número total de calificaciones: 32,000,204\n",
            "Número de usuarios únicos: 200,948\n",
            "Número de películas únicas: 87,585\n"
          ]
        }
      ]
    },
    {
      "cell_type": "markdown",
      "source": [
        "## 2. Distribución de las Calificaciones\n",
        "Ahora, investiguemos la columna rating. ¿Cómo califican los usuarios en general? ¿Son generosos o críticos?"
      ],
      "metadata": {
        "id": "e3bROhSqUdai"
      }
    },
    {
      "cell_type": "code",
      "source": [
        "# Estadísticas descriptivas de la columna 'rating'\n",
        "print(\"\\nEstadísticas de la columna 'rating':\")\n",
        "ratings_df.select(col(\"rating\")).describe().show()\n",
        "\n",
        "# Contar cuántas veces se dio cada calificación (de 0.5 a 5.0)\n",
        "print(\"\\nFrecuencia de cada calificación:\")\n",
        "ratings_df.groupBy(\"rating\").count().orderBy(desc(\"count\")).show()"
      ],
      "metadata": {
        "colab": {
          "base_uri": "https://localhost:8080/"
        },
        "id": "enjkblyRUITh",
        "outputId": "190115e8-0de5-4930-e756-32da3acdb9d0"
      },
      "execution_count": null,
      "outputs": [
        {
          "output_type": "stream",
          "name": "stdout",
          "text": [
            "\n",
            "📈 Estadísticas de la columna 'rating':\n",
            "+-------+------------------+\n",
            "|summary|            rating|\n",
            "+-------+------------------+\n",
            "|  count|          32000204|\n",
            "|   mean|3.5403956487277393|\n",
            "| stddev| 1.058986213945308|\n",
            "|    min|               0.5|\n",
            "|    max|               5.0|\n",
            "+-------+------------------+\n",
            "\n",
            "\n",
            "🔢 Frecuencia de cada calificación:\n",
            "+------+-------+\n",
            "|rating|  count|\n",
            "+------+-------+\n",
            "|   4.0|8367654|\n",
            "|   3.0|6054990|\n",
            "|   5.0|4596577|\n",
            "|   3.5|4290105|\n",
            "|   4.5|2974000|\n",
            "|   2.0|2028622|\n",
            "|   2.5|1685386|\n",
            "|   1.0| 946675|\n",
            "|   1.5| 531063|\n",
            "|   0.5| 525132|\n",
            "+------+-------+\n",
            "\n"
          ]
        }
      ]
    },
    {
      "cell_type": "markdown",
      "source": [
        "## 3. Actividad de los Usuarios y Popularidad de las Películas\n",
        "Finalmente, veamos si algunos usuarios son mucho más activos o si algunas películas son mucho más populares que otras."
      ],
      "metadata": {
        "id": "gHUqB471UqwX"
      }
    },
    {
      "cell_type": "code",
      "source": [
        "# Unir los dataframes para obtener los títulos de las películas\n",
        "movie_ratings_df = ratings_df.join(movies_df, \"movieId\")\n",
        "\n",
        "# Top 10 películas más calificadas (más populares)\n",
        "print(\"\\nTop 10 Películas Más Populares (por número de calificaciones):\")\n",
        "movie_ratings_df.groupBy(\"title\") \\\n",
        "    .count() \\\n",
        "    .orderBy(desc(\"count\")) \\\n",
        "    .show(10, truncate=False)\n",
        "\n",
        "# Top 10 usuarios más activos\n",
        "print(\"\\nTop 10 Usuarios Más Activos (por número de calificaciones):\")\n",
        "ratings_df.groupBy(\"userId\") \\\n",
        "    .count() \\\n",
        "    .orderBy(desc(\"count\")) \\\n",
        "    .show(10)"
      ],
      "metadata": {
        "colab": {
          "base_uri": "https://localhost:8080/"
        },
        "id": "QUVsxMgwUrBh",
        "outputId": "34d31b68-cc70-40e1-c40a-0a6f245fde2a"
      },
      "execution_count": null,
      "outputs": [
        {
          "output_type": "stream",
          "name": "stdout",
          "text": [
            "\n",
            "🎬 Top 10 Películas Más Populares (por número de calificaciones):\n",
            "+---------------------------------------------------------+------+\n",
            "|title                                                    |count |\n",
            "+---------------------------------------------------------+------+\n",
            "|Shawshank Redemption, The (1994)                         |102929|\n",
            "|Forrest Gump (1994)                                      |100296|\n",
            "|Pulp Fiction (1994)                                      |98409 |\n",
            "|Matrix, The (1999)                                       |93808 |\n",
            "|Silence of the Lambs, The (1991)                         |90330 |\n",
            "|Star Wars: Episode IV - A New Hope (1977)                |85010 |\n",
            "|Fight Club (1999)                                        |77332 |\n",
            "|Jurassic Park (1993)                                     |75233 |\n",
            "|Schindler's List (1993)                                  |73849 |\n",
            "|Lord of the Rings: The Fellowship of the Ring, The (2001)|73122 |\n",
            "+---------------------------------------------------------+------+\n",
            "only showing top 10 rows\n",
            "\n",
            "\n",
            "👨‍💻 Top 10 Usuarios Más Activos (por número de calificaciones):\n",
            "+------+-----+\n",
            "|userId|count|\n",
            "+------+-----+\n",
            "|175325|33332|\n",
            "| 17035| 9577|\n",
            "| 55653| 9178|\n",
            "|123465| 9044|\n",
            "|171795| 9016|\n",
            "| 10202| 7748|\n",
            "|198515| 7594|\n",
            "| 49305| 7488|\n",
            "| 22744| 7372|\n",
            "|  7858| 7322|\n",
            "+------+-----+\n",
            "only showing top 10 rows\n",
            "\n"
          ]
        }
      ]
    },
    {
      "cell_type": "markdown",
      "source": [
        "## 4. ¿Cuáles son las películas mejor calificadas? (Promedio vs. Popularidad)\n",
        "Ya vimos las películas con más calificaciones, pero ¿son las de mejor calidad? Para saberlo, necesitamos calcular la calificación promedio (average rating).\n",
        "\n",
        "Sin embargo, aquí hay una trampa: una película con una sola calificación de 5.0 tendría un promedio perfecto. Para evitar esto, calcularemos el promedio solo para películas que tengan un número mínimo de calificaciones (por ejemplo, más de 1000)."
      ],
      "metadata": {
        "id": "n-8zVKAeVGwm"
      }
    },
    {
      "cell_type": "code",
      "source": [
        "# Calcular el promedio y el número de calificaciones por película\n",
        "movie_stats_df = ratings_df.groupBy(\"movieId\") \\\n",
        "    .agg(\n",
        "        count(\"rating\").alias(\"num_ratings\"),\n",
        "        avg(\"rating\").alias(\"avg_rating\")\n",
        "    )\n",
        "\n",
        "# Unir con el DataFrame de películas para obtener los títulos\n",
        "movie_stats_df = movie_stats_df.join(movies_df, \"movieId\")\n",
        "\n",
        "# Filtrar para quedarnos con películas populares (más de 1000 calificaciones)\n",
        "popular_movies_df = movie_stats_df.filter(col(\"num_ratings\") > 1000)\n",
        "\n",
        "# Mostrar las 30 películas con el promedio más alto\n",
        "print(\"🎬 Top 30 Películas Mejor Calificadas (con más de 1000 ratings):\")\n",
        "popular_movies_df.select(\"title\", \"avg_rating\", \"num_ratings\") \\\n",
        "    .orderBy(desc(\"avg_rating\")) \\\n",
        "    .show(30, truncate=False)"
      ],
      "metadata": {
        "colab": {
          "base_uri": "https://localhost:8080/"
        },
        "id": "irsCnom0VKJZ",
        "outputId": "0ebafc49-4732-4edf-d224-3b3949a373fe"
      },
      "execution_count": null,
      "outputs": [
        {
          "output_type": "stream",
          "name": "stdout",
          "text": [
            "🎬 Top 30 Películas Mejor Calificadas (con más de 1000 ratings):\n",
            "+---------------------------------------------------------------------------+------------------+-----------+\n",
            "|title                                                                      |avg_rating        |num_ratings|\n",
            "+---------------------------------------------------------------------------+------------------+-----------+\n",
            "|Planet Earth II (2016)                                                     |4.4468302658486705|1956       |\n",
            "|Planet Earth (2006)                                                        |4.444369063772049 |2948       |\n",
            "|Band of Brothers (2001)                                                    |4.426538598363572 |2811       |\n",
            "|Shawshank Redemption, The (1994)                                           |4.404613860039444 |102929     |\n",
            "|Godfather, The (1972)                                                      |4.317030403371463 |66440      |\n",
            "|Parasite (2019)                                                            |4.312253641816624 |11670      |\n",
            "|Blue Planet II (2017)                                                      |4.300085984522786 |1163       |\n",
            "|Twin Peaks (1989)                                                          |4.298684210526316 |1140       |\n",
            "|12 Angry Men (1957)                                                        |4.265311256460687 |21863      |\n",
            "|Usual Suspects, The (1995)                                                 |4.265070110701107 |67750      |\n",
            "|Godfather: Part II, The (1974)                                             |4.26446846512491  |43111      |\n",
            "|Over the Garden Wall (2013)                                                |4.2637795275590555|1397       |\n",
            "|Seven Samurai (Shichinin no samurai) (1954)                                |4.249621922448733 |16531      |\n",
            "|The Blue Planet (2001)                                                     |4.247408105560791 |1061       |\n",
            "|Whiplash (2013)                                                            |4.240097402597403 |3080       |\n",
            "|Schindler's List (1993)                                                    |4.23699034516378  |73849      |\n",
            "|Fight Club (1999)                                                          |4.228779806548388 |77332      |\n",
            "|Rear Window (1954)                                                         |4.226700960495117 |24883      |\n",
            "|Spirited Away (Sen to Chihiro no kamikakushi) (2001)                       |4.213107131071311 |33333      |\n",
            "|Spider-Man: Across the Spider-Verse (2023)                                 |4.207413945278023 |1133       |\n",
            "|One Flew Over the Cuckoo's Nest (1975)                                     |4.20422945819878  |44592      |\n",
            "|Black Mirror                                                               |4.203992210321324 |1027       |\n",
            "|Dr. Strangelove or: How I Learned to Stop Worrying and Love the Bomb (1964)|4.2026804751751445|32830      |\n",
            "|Lives of Others, The (Das leben der Anderen) (2006)                        |4.198769656970586 |12273      |\n",
            "|Pulp Fiction (1994)                                                        |4.196968773181315 |98409      |\n",
            "|Sunset Blvd. (a.k.a. Sunset Boulevard) (1950)                              |4.195767195767195 |9072       |\n",
            "|Casablanca (1942)                                                          |4.194516930723827 |32190      |\n",
            "|Harakiri (Seppuku) (1962)                                                  |4.19015748031496  |1270       |\n",
            "|Goodfellas (1990)                                                          |4.188427017117825 |42003      |\n",
            "|North by Northwest (1959)                                                  |4.187254267655402 |20093      |\n",
            "+---------------------------------------------------------------------------+------------------+-----------+\n",
            "only showing top 30 rows\n",
            "\n"
          ]
        }
      ]
    },
    {
      "cell_type": "markdown",
      "source": [
        "## 5. Visualización de la Distribución de Calificaciones\n",
        "Una tabla de números es útil, pero un gráfico es mucho más intuitivo. Vamos a crear un histograma de la distribución de las calificaciones.\n",
        "\n",
        "Para visualizar, necesitamos pasar una pequeña cantidad de datos de Spark a una librería de Python como Matplotlib o Seaborn. El proceso es:\n",
        "\n",
        "Realizar el cálculo agregado en Spark.\n",
        "\n",
        "Convertir el resultado (que ya es un DataFrame pequeño) a un DataFrame de Pandas con .toPandas().\n",
        "\n",
        "Graficar con las librerías habituales."
      ],
      "metadata": {
        "id": "zo7sD2ApVuO6"
      }
    },
    {
      "cell_type": "code",
      "source": [
        "# Calcular la distribución de ratings en Spark (como hicimos antes)\n",
        "rating_distribution = ratings_df.groupBy(\"rating\").count().orderBy(\"rating\")\n",
        "\n",
        "# Convertir el resultado a un DataFrame de Pandas\n",
        "pandas_df = rating_distribution.toPandas()\n",
        "\n",
        "# Crear el gráfico\n",
        "plt.figure(figsize=(10, 6))\n",
        "sns.barplot(x=\"rating\", y=\"count\", data=pandas_df, palette=\"viridis\")\n",
        "plt.title(\"Distribución de Calificaciones en MovieLens\", fontsize=16)\n",
        "plt.xlabel(\"Calificación (Rating)\", fontsize=12)\n",
        "plt.ylabel(\"Número de Votos\", fontsize=12)\n",
        "plt.show()"
      ],
      "metadata": {
        "colab": {
          "base_uri": "https://localhost:8080/",
          "height": 571
        },
        "id": "zOk661AfVLlq",
        "outputId": "b5901b78-aa51-4529-9723-a5f16a2764db"
      },
      "execution_count": null,
      "outputs": [
        {
          "output_type": "display_data",
          "data": {
            "text/plain": [
              "<Figure size 1000x600 with 1 Axes>"
            ],
            "image/png": "[encoded data removed]"
          },
          "metadata": {}
        }
      ]
    },
    {
      "cell_type": "markdown",
      "source": [
        "## 6. Los Géneros de Películas Más Comunes\n",
        "Ya calculamos la frecuencia de cada género, pero un gráfico de barras lo hará mucho más claro. Este gráfico nos mostrará qué géneros dominan el catálogo de películas."
      ],
      "metadata": {
        "id": "4XHvSqftWgGd"
      }
    },
    {
      "cell_type": "code",
      "source": [
        "# Preparar los datos de géneros en Spark (si no lo has hecho)\n",
        "# Este código separa y cuenta los géneros.\n",
        "genres_df = movies_df.withColumn(\"genre\", explode(split(col(\"genres\"), \"\\|\")))\n",
        "genre_counts = genres_df.groupBy(\"genre\").count().orderBy(desc(\"count\")).limit(15)\n",
        "\n",
        "# Convertir a Pandas para graficar\n",
        "pandas_genres_df = genre_counts.toPandas()\n",
        "\n",
        "# Crear el gráfico de barras\n",
        "plt.figure(figsize=(12, 8))\n",
        "sns.barplot(x=\"count\", y=\"genre\", data=pandas_genres_df, orient='h', palette=\"magma\")\n",
        "plt.title(\"Top 15 Géneros de Películas Más Comunes\", fontsize=16)\n",
        "plt.xlabel(\"Cantidad de Películas\", fontsize=12)\n",
        "plt.ylabel(\"Género\", fontsize=12)\n",
        "plt.show()"
      ],
      "metadata": {
        "colab": {
          "base_uri": "https://localhost:8080/",
          "height": 726
        },
        "id": "HxZu_8OBV6bS",
        "outputId": "b85a640b-80fe-4eaf-99f7-086501fea538"
      },
      "execution_count": null,
      "outputs": [
        {
          "output_type": "display_data",
          "data": {
            "text/plain": [
              "<Figure size 1200x800 with 1 Axes>"
            ],
            "image/png": "[encoded data removed]"
          },
          "metadata": {}
        }
      ]
    },
    {
      "cell_type": "markdown",
      "source": [
        "## 7. Actividad de Calificaciones a lo Largo del Tiempo\n",
        "El dataset tiene una columna timestamp que nos dice cuándo se hizo cada calificación. Podemos usarla para ver cómo ha crecido la actividad en la plataforma a lo largo de los años."
      ],
      "metadata": {
        "id": "i8kJ1OaLWu-L"
      }
    },
    {
      "cell_type": "code",
      "source": [
        "# Extraer el año de la columna 'timestamp'\n",
        "# from_unixtime convierte el número de timestamp a una fecha legible.\n",
        "# year() extrae solo el año de esa fecha.\n",
        "ratings_with_year_df = ratings_df.withColumn(\"year\", year(from_unixtime(col(\"timestamp\"))))\n",
        "\n",
        "# Contar el número de calificaciones por año\n",
        "ratings_per_year = ratings_with_year_df.groupBy(\"year\").count().orderBy(\"year\")\n",
        "\n",
        "# Convertir a Pandas para graficar\n",
        "pandas_yearly_df = ratings_per_year.toPandas()\n",
        "\n",
        "# Crear el gráfico de líneas\n",
        "plt.figure(figsize=(12, 6))\n",
        "sns.lineplot(x=\"year\", y=\"count\", data=pandas_yearly_df, marker='o')\n",
        "plt.title(\"Número de Calificaciones por Año\", fontsize=16)\n",
        "plt.xlabel(\"Año\", fontsize=12)\n",
        "plt.ylabel(\"Número de Calificaciones\", fontsize=12)\n",
        "plt.grid(True)\n",
        "plt.show()"
      ],
      "metadata": {
        "colab": {
          "base_uri": "https://localhost:8080/",
          "height": 572
        },
        "id": "MvBtXIn0WoqI",
        "outputId": "107fd121-e42a-43c8-ef95-757c8f04e7ed"
      },
      "execution_count": null,
      "outputs": [
        {
          "output_type": "display_data",
          "data": {
            "text/plain": [
              "<Figure size 1200x600 with 1 Axes>"
            ],
            "image/png": "[encoded data removed]"
          },
          "metadata": {}
        }
      ]
    },
    {
      "cell_type": "markdown",
      "source": [
        "## Preparación de datos\n",
        "Vamos a ejecutar el código para limpiar y dividir los datos. Esto asegura que partimos de un punto limpio y tenemos nuestros conjuntos de training_df y test_df listos, por si el entorno de Colab se reinició."
      ],
      "metadata": {
        "id": "362peWvwZar8"
      }
    },
    {
      "cell_type": "code",
      "source": [
        "# Seleccionar las columnas necesarias, asegurar el tipo de dato y eliminar nulos\n",
        "data_df = ratings_df.select(\n",
        "    col(\"userId\").cast(IntegerType()),\n",
        "    col(\"movieId\").cast(IntegerType()),\n",
        "    col(\"rating\").cast(FloatType())\n",
        ").na.drop()\n",
        "\n",
        "# Dividir los datos: 80% para entrenamiento y 20% para prueba\n",
        "(training_df, test_df) = data_df.randomSplit([0.8, 0.2], seed=42)\n",
        "\n",
        "# Guardar en caché para un acceso más rápido\n",
        "training_df.cache()\n",
        "test_df.cache()\n",
        "\n",
        "print(\"Datos preparados y divididos en entrenamiento y prueba.\")\n",
        "print(f\"Total de calificaciones para entrenamiento: {training_df.count():,}\")\n",
        "print(f\"Total de calificaciones para prueba: {test_df.count():,}\")"
      ],
      "metadata": {
        "colab": {
          "base_uri": "https://localhost:8080/"
        },
        "id": "wU_rHAyqW7ag",
        "outputId": "5f8bc51f-1b8d-4f58-8088-246dae8a0d29"
      },
      "execution_count": 4,
      "outputs": [
        {
          "output_type": "stream",
          "name": "stdout",
          "text": [
            "✅ Datos preparados y divididos en entrenamiento y prueba.\n",
            "Total de calificaciones para entrenamiento: 25,600,204\n",
            "Total de calificaciones para prueba: 6,400,000\n"
          ]
        }
      ]
    },
    {
      "cell_type": "markdown",
      "source": [
        "### Entrenamiento de Modelo de Recomendación (ALS)\n",
        "Importaremos el algoritmo ALS de la librería de Machine Learning de Spark (MLlib), configuraremos sus parámetros y lo entrenaremos con nuestros datos de training_df.\n",
        "\n",
        "Parámetros clave:\n",
        "\n",
        "`maxIter`: El número de veces que el algoritmo iterará sobre los datos para aprender los patrones.\n",
        "\n",
        "`regParam`: Un parámetro de regularización para evitar que el modelo se \"sobreajuste\" a los datos de entrenamiento.\n",
        "\n",
        "`coldStartStrategy`: Qué hacer si en los datos de prueba aparece un usuario o película que no estaba en los datos de entrenamiento. \"drop\" simplemente los ignorará."
      ],
      "metadata": {
        "id": "A4SW8vLYZrSZ"
      }
    },
    {
      "cell_type": "code",
      "source": [
        "# Configurar el algoritmo Alternating Least Squares (ALS)\n",
        "als = ALS(\n",
        "    maxIter=10,\n",
        "    regParam=0.1,\n",
        "    userCol=\"userId\",\n",
        "    itemCol=\"movieId\",\n",
        "    ratingCol=\"rating\",\n",
        "    coldStartStrategy=\"drop\", # Ignora usuarios/películas nuevos en la fase de prueba\n",
        "    nonnegative=True          # Asegura que las predicciones no sean negativas\n",
        ")\n",
        "\n",
        "# Entrenar el modelo usando los datos de entrenamiento\n",
        "print(\"⏳ Entrenando el modelo ALS... (esto puede tardar unos minutos)\")\n",
        "\n",
        "model = als.fit(training_df)\n",
        "\n",
        "print(\"Modelo entrenado con éxito\")"
      ],
      "metadata": {
        "id": "8OFzCX4XcMMh",
        "colab": {
          "base_uri": "https://localhost:8080/"
        },
        "outputId": "072adea3-e16b-4bd2-9e13-b26d78c4e06c"
      },
      "execution_count": 7,
      "outputs": [
        {
          "output_type": "stream",
          "name": "stdout",
          "text": [
            "⏳ Entrenando el modelo ALS... (esto puede tardar unos minutos)\n",
            "✅ ¡Modelo entrenado con éxito!\n"
          ]
        }
      ]
    },
    {
      "cell_type": "markdown",
      "source": [
        "## Evaluación del Modelo\n",
        "Usaremos una métrica estándar llamada Error Cuadrático Medio (RMSE). En pocas palabras, nos dice qué tan \"lejos\" están las predicciones del modelo de las calificaciones reales. Un valor de RMSE más bajo es mejor."
      ],
      "metadata": {
        "id": "o6Y2aS-9nC5s"
      }
    },
    {
      "cell_type": "code",
      "source": [
        "# Usar el modelo para hacer predicciones en el conjunto de prueba\n",
        "print(\"Realizando predicciones en los datos de prueba...\")\n",
        "predictions = model.transform(test_df)\n",
        "\n",
        "# Crear un evaluador para medir el error\n",
        "# La métrica \"rmse\" calculará el Error Cuadrático Medio.\n",
        "evaluator = RegressionEvaluator(\n",
        "    metricName=\"rmse\",\n",
        "    labelCol=\"rating\",       # La columna con el valor real\n",
        "    predictionCol=\"prediction\" # La columna con la predicción del modelo\n",
        ")\n",
        "\n",
        "# Calcular el RMSE\n",
        "print(\"Calculando el error del modelo (RMSE)...\")\n",
        "rmse = evaluator.evaluate(predictions)\n",
        "\n",
        "print(f\"Evaluación completa.\")\n",
        "print(f\"Error Cuadrático Medio (RMSE) = {rmse:.4f}\")\n",
        "\n",
        "# (Opcional) Ver algunas de las predicciones\n",
        "print(\"\\nMuestra de las predicciones:\")\n",
        "predictions.select(\"userId\", \"movieId\", \"rating\", \"prediction\").show(10)"
      ],
      "metadata": {
        "colab": {
          "base_uri": "https://localhost:8080/"
        },
        "id": "3fjpy13Bk2RH",
        "outputId": "4241febb-1d67-4448-be46-2ac9bbef21c5"
      },
      "execution_count": 8,
      "outputs": [
        {
          "output_type": "stream",
          "name": "stdout",
          "text": [
            "📊 Realizando predicciones en los datos de prueba...\n",
            "📉 Calculando el error del modelo (RMSE)...\n",
            "✅ Evaluación completa.\n",
            "Error Cuadrático Medio (RMSE) = 0.8109\n",
            "\n",
            "🔍 Muestra de las predicciones:\n",
            "+------+-------+------+----------+\n",
            "|userId|movieId|rating|prediction|\n",
            "+------+-------+------+----------+\n",
            "|     1|     29|   2.0| 3.7078803|\n",
            "|     1|     36|   1.0| 3.2070594|\n",
            "|     1|    110|   3.0| 2.7482285|\n",
            "|     1|    223|   3.0| 3.3154163|\n",
            "|     1|    322|   4.0| 3.1105444|\n",
            "|     1|    541|   5.0| 3.9487705|\n",
            "|     1|    835|   3.0| 2.7044356|\n",
            "|     1|    916|   4.0| 3.6083488|\n",
            "|     1|   1090|   5.0| 3.3050394|\n",
            "|     1|   1094|   4.0| 3.4162283|\n",
            "+------+-------+------+----------+\n",
            "only showing top 10 rows\n",
            "\n"
          ]
        }
      ]
    },
    {
      "cell_type": "markdown",
      "source": [
        "# Prubas al modelo\n",
        "\n",
        "## Generar Recomendaciones de Películas\n",
        "Vamos a pedirle al modelo las 10 mejores recomendaciones de películas para un usuario específico."
      ],
      "metadata": {
        "id": "1RXu7CobnCcG"
      }
    },
    {
      "cell_type": "code",
      "source": [
        "# Generar las 10 mejores recomendaciones para cada usuario\n",
        "user_recommendations = model.recommendForAllUsers(10)\n",
        "\n",
        "print(\"Top 10 recomendaciones para el usuario con ID 15:\")\n",
        "user_recommendations.filter(col(\"userId\") == 15).show(truncate=False)"
      ],
      "metadata": {
        "colab": {
          "base_uri": "https://localhost:8080/"
        },
        "id": "reh0V3VanrT_",
        "outputId": "72c4d038-cb04-417e-d3e2-1b989334c969"
      },
      "execution_count": 9,
      "outputs": [
        {
          "output_type": "stream",
          "name": "stdout",
          "text": [
            "✨ Top 10 recomendaciones para el usuario con ID 15:\n",
            "+------+--------------------------------------------------------------------------------------------------------------------------------------------------------------------------------------------------------------+\n",
            "|userId|recommendations                                                                                                                                                                                               |\n",
            "+------+--------------------------------------------------------------------------------------------------------------------------------------------------------------------------------------------------------------+\n",
            "|15    |[{274047, 5.9899216}, {270306, 5.6303186}, {240070, 5.6303186}, {240054, 5.6303186}, {203882, 5.471368}, {289897, 5.3878274}, {205587, 5.380093}, {177209, 5.3379865}, {185211, 5.309669}, {231289, 5.302699}]|\n",
            "+------+--------------------------------------------------------------------------------------------------------------------------------------------------------------------------------------------------------------+\n",
            "\n"
          ]
        }
      ]
    },
    {
      "cell_type": "code",
      "source": [
        "# Seleccionar las recomendaciones para un usuario (ej: userId = 15)\n",
        "single_user_recs = user_recommendations.filter(col(\"userId\") == 15)\n",
        "\n",
        "# Usar \"explode\" para convertir la lista de recomendaciones en filas separadas\n",
        "recommendations_df = single_user_recs.withColumn(\"rec\", explode(col(\"recommendations\"))) \\\n",
        "    .select(\n",
        "        col(\"userId\"),\n",
        "        col(\"rec.movieId\").alias(\"movieId\"),\n",
        "        col(\"rec.rating\").alias(\"predicted_rating\")\n",
        "    )\n",
        "\n",
        "# Unir con el dataframe de películas para obtener los títulos\n",
        "recommendations_with_titles = recommendations_df.join(movies_df, \"movieId\")\n",
        "\n",
        "print(\"\\nTop 10 Películas Recomendadas para el Usuario 15 (con títulos):\")\n",
        "recommendations_with_titles.select(\"title\", \"predicted_rating\").show(10, truncate=False)"
      ],
      "metadata": {
        "colab": {
          "base_uri": "https://localhost:8080/"
        },
        "id": "2Uqd_tYCnw5w",
        "outputId": "a1b04a1a-0b22-4daa-ef18-04f371cccdb5"
      },
      "execution_count": 10,
      "outputs": [
        {
          "output_type": "stream",
          "name": "stdout",
          "text": [
            "\n",
            "🎬 Top 10 Películas Recomendadas para el Usuario 15 (con títulos):\n",
            "+-------------------------------------------------------------------------+----------------+\n",
            "|title                                                                    |predicted_rating|\n",
            "+-------------------------------------------------------------------------+----------------+\n",
            "|The Sound of Violet (2022)                                               |5.9899216       |\n",
            "|WWE: The Triumph and Tragedy of World Class Championship Wrestling (2007)|5.6303186       |\n",
            "|SpongeBob SquarePants: Heroes of Bikini Bottom (2011)                    |5.6303186       |\n",
            "|SpongeBob SquarePants: Tide and Seek                                     |5.6303186       |\n",
            "|Dead in the Water (2006)                                                 |5.471368        |\n",
            "|O Canada! (1982)                                                         |5.3878274       |\n",
            "|678 (2010)                                                               |5.380093        |\n",
            "|Acı Aşk (2009)                                                           |5.3379865       |\n",
            "|Heroes (2008)                                                            |5.309669        |\n",
            "|LIFE BEYOND: Chapter 2. The Museum of Alien Life (2020)                  |5.302699        |\n",
            "+-------------------------------------------------------------------------+----------------+\n",
            "\n"
          ]
        }
      ]
    },
    {
      "cell_type": "markdown",
      "source": [
        "## Encontrar Películas Similares (el efecto \"Más como esto\" de Netflix)\n",
        "El modelo no solo aprendió sobre los usuarios, sino que también aprendió el \"ADN\" de cada película (sus factores latentes). Podemos usar este conocimiento para encontrar las películas más similares a una en particular.\n",
        "\n",
        "La idea es tomar el \"ADN\" (el vector de factores) de una película y buscar otras películas con un ADN parecido."
      ],
      "metadata": {
        "id": "jXvgVXuPtVNk"
      }
    },
    {
      "cell_type": "code",
      "source": [
        "def find_similar_movies(movie_title, top_n=10):\n",
        "    \"\"\"\n",
        "    Encuentra las 'top_n' películas más similares a una película dada.\n",
        "    \"\"\"\n",
        "    try:\n",
        "        # Obtener el ID y los factores de la película de entrada\n",
        "        movie_row = movies_df.filter(col(\"title\") == movie_title).first()\n",
        "        movie_id = movie_row[\"movieId\"]\n",
        "\n",
        "        # Obtenemos los factores de la película específica\n",
        "        movie_features_row = model.itemFactors.filter(col(\"id\") == movie_id).first()\n",
        "\n",
        "        # Convertimos la lista de features a un objeto DenseVector\n",
        "        movie_factors = Vectors.dense(movie_features_row[\"features\"])\n",
        "\n",
        "        # Calcular la similitud del coseno entre esta película y todas las demás\n",
        "        similarities = model.itemFactors.rdd.map(\n",
        "            lambda row: (row.id, float(movie_factors.dot(row.features) / (movie_factors.norm(2) * Vectors.dense(row.features).norm(2))))\n",
        "        ).toDF([\"movieId\", \"similarity\"])\n",
        "\n",
        "        # Unir con los títulos y mostrar las más similares\n",
        "        similar_movies = similarities.join(movies_df, \"movieId\") \\\n",
        "            .orderBy(desc(\"similarity\")) \\\n",
        "            .filter(col(\"title\") != movie_title) \\\n",
        "            .limit(top_n)\n",
        "\n",
        "        print(f\"Películas más similares a '{movie_title}':\")\n",
        "        similar_movies.select(\"title\", \"similarity\").show(truncate=False)\n",
        "\n",
        "    except (TypeError, AttributeError):\n",
        "        print(f\"No se pudo encontrar la película '{movie_title}'. Intenta con otro título.\")\n",
        "\n",
        "# Prueba\n",
        "find_similar_movies(\"Toy Story (1995)\")\n",
        "find_similar_movies(\"Matrix, The (1999)\")"
      ],
      "metadata": {
        "colab": {
          "base_uri": "https://localhost:8080/"
        },
        "id": "jzKUCyfrqTOY",
        "outputId": "b837026d-bdcd-40b2-c882-ff5f33fb65c2"
      },
      "execution_count": 14,
      "outputs": [
        {
          "output_type": "stream",
          "name": "stdout",
          "text": [
            "🎬 Películas más similares a 'Toy Story (1995)':\n",
            "+------------------------------------+------------------+\n",
            "|title                               |similarity        |\n",
            "+------------------------------------+------------------+\n",
            "|Toy Story 2 (1999)                  |0.9979460186835156|\n",
            "|Toy Story 3 (2010)                  |0.9926023303753191|\n",
            "|A Love Song (2022)                  |0.990018401291524 |\n",
            "|The Chinese Ring (1947)             |0.9887987444706439|\n",
            "|Three Lives of Thomasina, The (1964)|0.9887547744628334|\n",
            "|Incredibles, The (2004)             |0.9886428659212848|\n",
            "|The Bulleteers (1942)               |0.9880249582646299|\n",
            "|Jungle Book, The (1967)             |0.9877866921924049|\n",
            "|Bug's Life, A (1998)                |0.9872985060498816|\n",
            "|Bad Reputation (2018)               |0.9853300621552701|\n",
            "+------------------------------------+------------------+\n",
            "\n",
            "🎬 Películas más similares a 'Matrix, The (1999)':\n",
            "+-----------------------------------+------------------+\n",
            "|title                              |similarity        |\n",
            "+-----------------------------------+------------------+\n",
            "|Angel's Dance (1999)               |0.9914965012260116|\n",
            "|Chura Liyaa Hai Tumne (2003)       |0.9897886897360225|\n",
            "|Ronin (1998)                       |0.9891367131629747|\n",
            "|Garrincha: Joy of the People (1962)|0.9868112169252926|\n",
            "|Batman Begins (2005)               |0.9862325251996543|\n",
            "|Punk Revolution NYC (2012)         |0.9857350148097845|\n",
            "|Casino Royale (2006)               |0.9853681918668239|\n",
            "|You Are My Home (2020)             |0.9850892745765181|\n",
            "|Freshman Friday (2020)             |0.9850892745765181|\n",
            "|Loves Spell (2020)                 |0.9850892745765181|\n",
            "+-----------------------------------+------------------+\n",
            "\n"
          ]
        }
      ]
    }
  ]
}